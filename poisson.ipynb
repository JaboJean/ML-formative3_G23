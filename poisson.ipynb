{
 "cells": [
  {
   "cell_type": "code",
   "execution_count": null,
   "id": "97407604-ea7e-4c9a-8948-eb0f9b1d487b",
   "metadata": {},
   "outputs": [],
   "source": [
    "import matplotlib.pyplot as plt\n",
    "\n",
    "# Parameters\n",
    "lambda_val = 4  #average number of calls per hour\n",
    "k_max = 15      #we'll compute probabilities from 0 to 15 calls\n",
    "\n",
    "#Implement factorial (since we are not using math.factorial)\n",
    "\n",
    "def factorial(n):\n",
    "    result = 1\n",
    "    for i in range(2, n + 1):\n",
    "        result *= i\n",
    "    return result\n",
    "\n",
    "# Approximate value of e (Euler's number)\n",
    "def compute_e(power, terms=100):\n",
    "    e = 0\n",
    "    for  n in range(terms):\n",
    "        e += (power ** n) / factorial(n)\n",
    "    return e"
   ]
  },
  {
   "cell_type": "markdown",
   "id": "76525203",
   "metadata": {},
   "source": [
    "Poisson distribution"
   ]
  }
 ],
 "metadata": {
  "kernelspec": {
   "display_name": "Python [conda env:base] *",
   "language": "python",
   "name": "conda-base-py"
  },
  "language_info": {
   "codemirror_mode": {
    "name": "ipython",
    "version": 3
   },
   "file_extension": ".py",
   "mimetype": "text/x-python",
   "name": "python",
   "nbconvert_exporter": "python",
   "pygments_lexer": "ipython3",
   "version": "3.12.7"
  }
 },
 "nbformat": 4,
 "nbformat_minor": 5
}
