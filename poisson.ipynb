#Implement factorial (since we are not using math.factorial)

def factorial(n):
    result = 1
    for i in range(2, n + 1):
        result *= i
    return result

# Approximate value of e (Euler's number)
def compute_e(power, terms=100):
    e = 0
    for  n in range(terms):
        e += (power ** n) / factorial(n)
    return e
