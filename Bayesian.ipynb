{
 "cells": [
  {
   "cell_type": "markdown",
   "id": "78a1aeb0",
   "metadata": {},
   "source": [
    "P(A|B) = (P(B|A).P(A))/P(B)\n",
    "\n",
    "the problem is to check if an email is spam or not based on the presence of a specific word like \"free\"\n",
    "\n",
    "A: Email is spam\n",
    "B: word \"free\" appears in email\n",
    "P(A|B): posterior: probability of the email being spam given \"free\" appears in it\n",
    "P(B|A):Likelihood: probability of \"free\" appearing in spam or simply \"free\" appearing in the email given the email is spam\n",
    "P(A): prior: initial belief an email is spam(probability of an email is spam)\n",
    "P(B): evidence: total probability of \"free\" appearing\n"
   ]
  },
  {
   "cell_type": "markdown",
   "id": "c3ac3dfc",
   "metadata": {},
   "source": [
    "40% of all emails are spam : P(spam) = 0.4\n",
    "60% are not spam : P(not spam) = 0.6\n",
    "70% of spam emails contain the word \"free\" : P(word|spam) = 0.7\n",
    "10% of non spam email contain the word \"free\" : P(word|not spam) = 0.1"
   ]
  },
  {
   "cell_type": "code",
   "execution_count": 2,
   "id": "cef9c1f9",
   "metadata": {},
   "outputs": [
    {
     "name": "stdout",
     "output_type": "stream",
     "text": [
      "prior : 0.4\n",
      "likelihood : 0.7\n",
      "posterior : 0.8235\n",
      "evidence : 0.3400\n"
     ]
    }
   ],
   "source": [
    "#defining prior probabilities\n",
    "p_spam = 0.4\n",
    "p_not_spam = 0.6\n",
    "#defining likelihoods\n",
    "p_word_given_spam = 0.7\n",
    "p_word_given_not_spam = 0.1\n",
    "#computing evidence\n",
    "p_word = (p_word_given_spam * p_spam) + (p_word_given_not_spam * p_not_spam)\n",
    "#apply Bayes' theorem\n",
    "p_spam_given_word = (p_word_given_spam * p_spam) / p_word\n",
    "\n",
    "print(f\"prior : {p_spam}\")\n",
    "print(f\"likelihood : {p_word_given_spam}\")\n",
    "print(f\"posterior : {p_spam_given_word:.4f}\")\n",
    "print(f\"evidence : {p_word:.4f}\")"
   ]
  },
  {
   "cell_type": "markdown",
   "id": "65d0de89",
   "metadata": {},
   "source": [
    "GENERAL FORMULA"
   ]
  },
  {
   "cell_type": "code",
   "execution_count": null,
   "id": "64c68df1",
   "metadata": {},
   "outputs": [],
   "source": [
    "def bayes_theorem(prior_A, likelihood_B_given_A, prior_not_A, likelihood_B_given_not_A):\n",
    "    \"\"\"\n",
    "    Computes P(A|B) using Bayes' Theorem.\n",
    "    \n",
    "    Parameters:\n",
    "        prior_A (float): P(A)\n",
    "        likelihood_B_given_A (float): P(B | A)\n",
    "        prior_not_A (float): P(!A)\n",
    "        likelihood_B_given_not_A (float): P(B | !A)\n",
    "    \n",
    "    Returns:\n",
    "        posterior_A_given_B (float): P(A | B)\n",
    "    \"\"\"\n",
    "    print(\"*** BAYES' THEOREM CALCULATION ***\\n\")\n",
    "\n",
    "    print(f\"Prior (P(A)) = {prior_A}\")\n",
    "    print(f\"Likelihood (P(B | A)) = {likelihood_B_given_A}\")\n",
    "    print(f\"Prior of Not A (P(!A)) = {prior_not_A}\")\n",
    "    print(f\"Likelihood (P(B | !A)) = {likelihood_B_given_not_A}\")\n",
    "\n",
    "    # Compute total evidence (P(B))\n",
    "    evidence_B = (likelihood_B_given_A * prior_A) + (likelihood_B_given_not_A * prior_not_A)\n",
    "    print(f\"\\nEvidence (P(B)) = P(B | A) * P(A) + P(B | !A) * P(!A)\")\n",
    "    print(f\"              = {likelihood_B_given_A} * {prior_A} + {likelihood_B_given_not_A} * {prior_not_A}\")\n",
    "    print(f\"              = {evidence_B:.5f}\")\n",
    "\n",
    "    # Compute posterior P(A | B)\n",
    "    posterior_A_given_B = (likelihood_B_given_A * prior_A) / evidence_B\n",
    "    print(f\"\\nPosterior (P(A | B)) = (P(B | A) * P(A)) / P(B)\")\n",
    "    print(f\"                   = ({likelihood_B_given_A} * {prior_A}) / {evidence_B}\")\n",
    "    print(f\"                   = {posterior_A_given_B:.5f}\")\n",
    "\n",
    "    print(\"\\n**********************************\")\n",
    "\n",
    "    return posterior_A_given_B\n"
   ]
  },
  {
   "cell_type": "code",
   "execution_count": null,
   "id": "80e7ec19",
   "metadata": {},
   "outputs": [
    {
     "name": "stdout",
     "output_type": "stream",
     "text": [
      "*** BAYES' THEOREM CALCULATION ***\n",
      "\n",
      "Prior (P(A)) = 0.4\n",
      "Likelihood (P(B | A)) = 0.7\n",
      "Prior of Not A (P(!A)) = 0.6\n",
      "Likelihood (P(B | !A)) = 0.1\n",
      "\n",
      "Evidence (P(B)) = P(B | A) * P(A) + P(B | !A) * P(!A)\n",
      "              = 0.7 * 0.4 + 0.1 * 0.6\n",
      "              = 0.34000\n",
      "\n",
      "Posterior (P(A | B)) = (P(B | A) * P(A)) / P(B)\n",
      "                   = (0.7 * 0.4) / 0.33999999999999997\n",
      "                   = 0.82353\n",
      "\n",
      "***************************\n"
     ]
    },
    {
     "data": {
      "text/plain": [
       "0.8235294117647058"
      ]
     },
     "execution_count": 9,
     "metadata": {},
     "output_type": "execute_result"
    }
   ],
   "source": [
    "prior_spam = 0.4\n",
    "likelihood_word_given_spam = 0.7\n",
    "prior_not_spam = 0.6\n",
    "likelihood_word_given_not_spam = 0.1\n",
    "\n",
    "bayes_theorem(prior_spam, likelihood_word_given_spam,\n",
    "                      prior_not_spam, likelihood_word_given_not_spam)\n"
   ]
  },
  {
   "cell_type": "markdown",
   "id": "89e017d6",
   "metadata": {},
   "source": [
    "Practical signigicance of bayesian interference\n",
    "\n",
    "- it helps in adaptive learning by updating the probability as new eveidence arrives.\n",
    "    for example:\n",
    "    - in medical diagnosis, it helps in updating the probability of diseases as test results are added.\n",
    "    - in spam filtering, it automaticall leans from new spam data and adjusts filtering\n",
    "- it improves system failure predictions with updated failure data\n"
   ]
  }
 ],
 "metadata": {
  "kernelspec": {
   "display_name": "base",
   "language": "python",
   "name": "python3"
  },
  "language_info": {
   "codemirror_mode": {
    "name": "ipython",
    "version": 3
   },
   "file_extension": ".py",
   "mimetype": "text/x-python",
   "name": "python",
   "nbconvert_exporter": "python",
   "pygments_lexer": "ipython3",
   "version": "3.12.7"
  }
 },
 "nbformat": 4,
 "nbformat_minor": 5
}
